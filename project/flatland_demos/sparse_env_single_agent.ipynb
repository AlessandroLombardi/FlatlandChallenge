{
  "nbformat": 4,
  "nbformat_minor": 0,
  "metadata": {
    "kernelspec": {
      "display_name": "Python 3",
      "language": "python",
      "name": "python3"
    },
    "language_info": {
      "codemirror_mode": {
        "name": "ipython",
        "version": 3
      },
      "file_extension": ".py",
      "mimetype": "text/x-python",
      "name": "python",
      "nbconvert_exporter": "python",
      "pygments_lexer": "ipython3",
      "version": "3.6.9"
    },
    "colab": {
      "name": "notebook_3.ipynb",
      "provenance": []
    }
  },
  "cells": [
    {
      "cell_type": "markdown",
      "metadata": {
        "id": "AKUQ4Dj-rFTU",
        "colab_type": "text"
      },
      "source": [
        "# Part 3: Level generation"
      ]
    },
    {
      "cell_type": "code",
      "metadata": {
        "id": "PupUV8yarFTa",
        "colab_type": "code",
        "colab": {
          "base_uri": "https://localhost:8080/",
          "height": 1000
        },
        "outputId": "e16e5eff-8715-480c-ef3d-248c39e61535"
      },
      "source": [
        "# Install Flatland\n",
        "%cd /content\n",
        "!git clone https://gitlab.aicrowd.com/flatland/flatland.git/ --branch 223_UpdateEditor_55_notebooks\n",
        "%cd flatland\n",
        "!pip install -e ."
      ],
      "execution_count": 13,
      "outputs": [
        {
          "output_type": "stream",
          "text": [
            "/content\n",
            "fatal: destination path 'flatland' already exists and is not an empty directory.\n",
            "/content/flatland\n",
            "Obtaining file:///content/flatland\n",
            "Requirement already satisfied: tox>=3.5.2 in /usr/local/lib/python3.6/dist-packages (from flatland-rl==2.1.10) (3.14.5)\n",
            "Requirement already satisfied: pytest>=3.8.2 in /usr/local/lib/python3.6/dist-packages (from flatland-rl==2.1.10) (5.4.1)\n",
            "Requirement already satisfied: pytest-runner>=4.2 in /usr/local/lib/python3.6/dist-packages (from flatland-rl==2.1.10) (5.2)\n",
            "Requirement already satisfied: Click>=7.0 in /usr/local/lib/python3.6/dist-packages (from flatland-rl==2.1.10) (7.0)\n",
            "Requirement already satisfied: crowdai-api>=0.1.21 in /usr/local/lib/python3.6/dist-packages (from flatland-rl==2.1.10) (0.1.22)\n",
            "Requirement already satisfied: numpy>=1.16.2 in /usr/local/lib/python3.6/dist-packages (from flatland-rl==2.1.10) (1.17.5)\n",
            "Requirement already satisfied: recordtype>=1.3 in /usr/local/lib/python3.6/dist-packages (from flatland-rl==2.1.10) (1.3)\n",
            "Requirement already satisfied: matplotlib>=3.0.2 in /usr/local/lib/python3.6/dist-packages (from flatland-rl==2.1.10) (3.1.3)\n",
            "Requirement already satisfied: Pillow>=5.4.1 in /usr/local/lib/python3.6/dist-packages (from flatland-rl==2.1.10) (6.2.2)\n",
            "Requirement already satisfied: CairoSVG>=2.3.1 in /usr/local/lib/python3.6/dist-packages (from flatland-rl==2.1.10) (2.4.2)\n",
            "Requirement already satisfied: msgpack>=0.6.1 in /usr/local/lib/python3.6/dist-packages (from flatland-rl==2.1.10) (1.0.0)\n",
            "Requirement already satisfied: msgpack-numpy>=0.4.4.0 in /usr/local/lib/python3.6/dist-packages (from flatland-rl==2.1.10) (0.4.4.3)\n",
            "Requirement already satisfied: svgutils>=0.3.1 in /usr/local/lib/python3.6/dist-packages (from flatland-rl==2.1.10) (0.3.1)\n",
            "Requirement already satisfied: pyarrow>=0.13.0 in /usr/local/lib/python3.6/dist-packages (from flatland-rl==2.1.10) (0.14.1)\n",
            "Requirement already satisfied: importlib-metadata>=0.17 in /usr/local/lib/python3.6/dist-packages (from flatland-rl==2.1.10) (1.5.0)\n",
            "Requirement already satisfied: importlib-resources>=1.0.1 in /usr/local/lib/python3.6/dist-packages (from flatland-rl==2.1.10) (1.3.1)\n",
            "Requirement already satisfied: six>=1.12.0 in /usr/local/lib/python3.6/dist-packages (from flatland-rl==2.1.10) (1.12.0)\n",
            "Requirement already satisfied: timeout-decorator>=0.4.1 in /usr/local/lib/python3.6/dist-packages (from flatland-rl==2.1.10) (0.4.1)\n",
            "Requirement already satisfied: attrs in /usr/local/lib/python3.6/dist-packages (from flatland-rl==2.1.10) (19.3.0)\n",
            "Requirement already satisfied: ushlex in /usr/local/lib/python3.6/dist-packages (from flatland-rl==2.1.10) (0.99.1)\n",
            "Requirement already satisfied: gym==0.14.0 in /usr/local/lib/python3.6/dist-packages (from flatland-rl==2.1.10) (0.14.0)\n",
            "Requirement already satisfied: flask in /usr/local/lib/python3.6/dist-packages (from flatland-rl==2.1.10) (1.1.1)\n",
            "Requirement already satisfied: flask_cors in /usr/local/lib/python3.6/dist-packages (from flatland-rl==2.1.10) (3.0.8)\n",
            "Requirement already satisfied: flask_socketio in /usr/local/lib/python3.6/dist-packages (from flatland-rl==2.1.10) (4.2.1)\n",
            "Requirement already satisfied: pandas in /usr/local/lib/python3.6/dist-packages (from flatland-rl==2.1.10) (0.25.3)\n",
            "Requirement already satisfied: ipysheet in /usr/local/lib/python3.6/dist-packages (from flatland-rl==2.1.10) (0.4.3)\n",
            "Requirement already satisfied: ipycanvas in /usr/local/lib/python3.6/dist-packages (from flatland-rl==2.1.10) (0.4.4)\n",
            "Requirement already satisfied: networkx in /usr/local/lib/python3.6/dist-packages (from flatland-rl==2.1.10) (2.4)\n",
            "Requirement already satisfied: virtualenv>=16.0.0 in /usr/local/lib/python3.6/dist-packages (from tox>=3.5.2->flatland-rl==2.1.10) (20.0.10)\n",
            "Requirement already satisfied: packaging>=14 in /usr/local/lib/python3.6/dist-packages (from tox>=3.5.2->flatland-rl==2.1.10) (20.1)\n",
            "Requirement already satisfied: py<2,>=1.4.17 in /usr/local/lib/python3.6/dist-packages (from tox>=3.5.2->flatland-rl==2.1.10) (1.8.1)\n",
            "Requirement already satisfied: toml>=0.9.4 in /usr/local/lib/python3.6/dist-packages (from tox>=3.5.2->flatland-rl==2.1.10) (0.10.0)\n",
            "Requirement already satisfied: filelock<4,>=3.0.0 in /usr/local/lib/python3.6/dist-packages (from tox>=3.5.2->flatland-rl==2.1.10) (3.0.12)\n",
            "Requirement already satisfied: pluggy<1,>=0.12.0 in /usr/local/lib/python3.6/dist-packages (from tox>=3.5.2->flatland-rl==2.1.10) (0.13.1)\n",
            "Requirement already satisfied: more-itertools>=4.0.0 in /usr/local/lib/python3.6/dist-packages (from pytest>=3.8.2->flatland-rl==2.1.10) (8.2.0)\n",
            "Requirement already satisfied: wcwidth in /usr/local/lib/python3.6/dist-packages (from pytest>=3.8.2->flatland-rl==2.1.10) (0.1.8)\n",
            "Requirement already satisfied: requests>=2.18.4 in /usr/local/lib/python3.6/dist-packages (from crowdai-api>=0.1.21->flatland-rl==2.1.10) (2.21.0)\n",
            "Requirement already satisfied: python-gitlab>=1.3.0 in /usr/local/lib/python3.6/dist-packages (from crowdai-api>=0.1.21->flatland-rl==2.1.10) (2.1.2)\n",
            "Requirement already satisfied: redis in /usr/local/lib/python3.6/dist-packages (from crowdai-api>=0.1.21->flatland-rl==2.1.10) (3.4.1)\n",
            "Requirement already satisfied: kiwisolver>=1.0.1 in /usr/local/lib/python3.6/dist-packages (from matplotlib>=3.0.2->flatland-rl==2.1.10) (1.1.0)\n",
            "Requirement already satisfied: pyparsing!=2.0.4,!=2.1.2,!=2.1.6,>=2.0.1 in /usr/local/lib/python3.6/dist-packages (from matplotlib>=3.0.2->flatland-rl==2.1.10) (2.4.6)\n",
            "Requirement already satisfied: python-dateutil>=2.1 in /usr/local/lib/python3.6/dist-packages (from matplotlib>=3.0.2->flatland-rl==2.1.10) (2.6.1)\n",
            "Requirement already satisfied: cycler>=0.10 in /usr/local/lib/python3.6/dist-packages (from matplotlib>=3.0.2->flatland-rl==2.1.10) (0.10.0)\n",
            "Requirement already satisfied: defusedxml in /usr/local/lib/python3.6/dist-packages (from CairoSVG>=2.3.1->flatland-rl==2.1.10) (0.6.0)\n",
            "Requirement already satisfied: cairocffi in /usr/local/lib/python3.6/dist-packages (from CairoSVG>=2.3.1->flatland-rl==2.1.10) (1.1.0)\n",
            "Requirement already satisfied: tinycss2 in /usr/local/lib/python3.6/dist-packages (from CairoSVG>=2.3.1->flatland-rl==2.1.10) (1.0.2)\n",
            "Requirement already satisfied: cssselect2 in /usr/local/lib/python3.6/dist-packages (from CairoSVG>=2.3.1->flatland-rl==2.1.10) (0.2.2)\n",
            "Requirement already satisfied: lxml in /usr/local/lib/python3.6/dist-packages (from svgutils>=0.3.1->flatland-rl==2.1.10) (4.2.6)\n",
            "Requirement already satisfied: zipp>=0.5 in /usr/local/lib/python3.6/dist-packages (from importlib-metadata>=0.17->flatland-rl==2.1.10) (3.1.0)\n",
            "Requirement already satisfied: scipy in /usr/local/lib/python3.6/dist-packages (from gym==0.14.0->flatland-rl==2.1.10) (1.4.1)\n",
            "Requirement already satisfied: pyglet<=1.3.2,>=1.2.0 in /usr/local/lib/python3.6/dist-packages (from gym==0.14.0->flatland-rl==2.1.10) (1.3.2)\n",
            "Requirement already satisfied: cloudpickle~=1.2.0 in /usr/local/lib/python3.6/dist-packages (from gym==0.14.0->flatland-rl==2.1.10) (1.2.2)\n",
            "Requirement already satisfied: Jinja2>=2.10.1 in /usr/local/lib/python3.6/dist-packages (from flask->flatland-rl==2.1.10) (2.11.1)\n",
            "Requirement already satisfied: Werkzeug>=0.15 in /usr/local/lib/python3.6/dist-packages (from flask->flatland-rl==2.1.10) (1.0.0)\n",
            "Requirement already satisfied: itsdangerous>=0.24 in /usr/local/lib/python3.6/dist-packages (from flask->flatland-rl==2.1.10) (1.1.0)\n",
            "Requirement already satisfied: python-socketio>=4.3.0 in /usr/local/lib/python3.6/dist-packages (from flask_socketio->flatland-rl==2.1.10) (4.5.0)\n",
            "Requirement already satisfied: pytz>=2017.2 in /usr/local/lib/python3.6/dist-packages (from pandas->flatland-rl==2.1.10) (2018.9)\n",
            "Requirement already satisfied: ipywidgets<8.0,>=7.5.0 in /usr/local/lib/python3.6/dist-packages (from ipysheet->flatland-rl==2.1.10) (7.5.1)\n",
            "Requirement already satisfied: decorator>=4.3.0 in /usr/local/lib/python3.6/dist-packages (from networkx->flatland-rl==2.1.10) (4.4.1)\n",
            "Requirement already satisfied: appdirs<2,>=1.4.3 in /usr/local/lib/python3.6/dist-packages (from virtualenv>=16.0.0->tox>=3.5.2->flatland-rl==2.1.10) (1.4.3)\n",
            "Requirement already satisfied: distlib<1,>=0.3.0 in /usr/local/lib/python3.6/dist-packages (from virtualenv>=16.0.0->tox>=3.5.2->flatland-rl==2.1.10) (0.3.0)\n",
            "Requirement already satisfied: idna<2.9,>=2.5 in /usr/local/lib/python3.6/dist-packages (from requests>=2.18.4->crowdai-api>=0.1.21->flatland-rl==2.1.10) (2.8)\n",
            "Requirement already satisfied: certifi>=2017.4.17 in /usr/local/lib/python3.6/dist-packages (from requests>=2.18.4->crowdai-api>=0.1.21->flatland-rl==2.1.10) (2019.11.28)\n",
            "Requirement already satisfied: chardet<3.1.0,>=3.0.2 in /usr/local/lib/python3.6/dist-packages (from requests>=2.18.4->crowdai-api>=0.1.21->flatland-rl==2.1.10) (3.0.4)\n",
            "Requirement already satisfied: urllib3<1.25,>=1.21.1 in /usr/local/lib/python3.6/dist-packages (from requests>=2.18.4->crowdai-api>=0.1.21->flatland-rl==2.1.10) (1.24.3)\n",
            "Requirement already satisfied: setuptools in /usr/local/lib/python3.6/dist-packages (from kiwisolver>=1.0.1->matplotlib>=3.0.2->flatland-rl==2.1.10) (45.2.0)\n",
            "Requirement already satisfied: cffi>=1.1.0 in /usr/local/lib/python3.6/dist-packages (from cairocffi->CairoSVG>=2.3.1->flatland-rl==2.1.10) (1.14.0)\n",
            "Requirement already satisfied: webencodings>=0.4 in /usr/local/lib/python3.6/dist-packages (from tinycss2->CairoSVG>=2.3.1->flatland-rl==2.1.10) (0.5.1)\n",
            "Requirement already satisfied: future in /usr/local/lib/python3.6/dist-packages (from pyglet<=1.3.2,>=1.2.0->gym==0.14.0->flatland-rl==2.1.10) (0.16.0)\n",
            "Requirement already satisfied: MarkupSafe>=0.23 in /usr/local/lib/python3.6/dist-packages (from Jinja2>=2.10.1->flask->flatland-rl==2.1.10) (1.1.1)\n",
            "Requirement already satisfied: python-engineio>=3.9.0 in /usr/local/lib/python3.6/dist-packages (from python-socketio>=4.3.0->flask_socketio->flatland-rl==2.1.10) (3.12.0)\n",
            "Requirement already satisfied: traitlets>=4.3.1 in /usr/local/lib/python3.6/dist-packages (from ipywidgets<8.0,>=7.5.0->ipysheet->flatland-rl==2.1.10) (4.3.3)\n",
            "Requirement already satisfied: nbformat>=4.2.0 in /usr/local/lib/python3.6/dist-packages (from ipywidgets<8.0,>=7.5.0->ipysheet->flatland-rl==2.1.10) (5.0.4)\n",
            "Requirement already satisfied: widgetsnbextension~=3.5.0 in /usr/local/lib/python3.6/dist-packages (from ipywidgets<8.0,>=7.5.0->ipysheet->flatland-rl==2.1.10) (3.5.1)\n",
            "Requirement already satisfied: ipykernel>=4.5.1 in /usr/local/lib/python3.6/dist-packages (from ipywidgets<8.0,>=7.5.0->ipysheet->flatland-rl==2.1.10) (4.6.1)\n",
            "Requirement already satisfied: ipython>=4.0.0; python_version >= \"3.3\" in /usr/local/lib/python3.6/dist-packages (from ipywidgets<8.0,>=7.5.0->ipysheet->flatland-rl==2.1.10) (5.5.0)\n",
            "Requirement already satisfied: pycparser in /usr/local/lib/python3.6/dist-packages (from cffi>=1.1.0->cairocffi->CairoSVG>=2.3.1->flatland-rl==2.1.10) (2.19)\n",
            "Requirement already satisfied: ipython-genutils in /usr/local/lib/python3.6/dist-packages (from traitlets>=4.3.1->ipywidgets<8.0,>=7.5.0->ipysheet->flatland-rl==2.1.10) (0.2.0)\n",
            "Requirement already satisfied: jupyter-core in /usr/local/lib/python3.6/dist-packages (from nbformat>=4.2.0->ipywidgets<8.0,>=7.5.0->ipysheet->flatland-rl==2.1.10) (4.6.2)\n",
            "Requirement already satisfied: jsonschema!=2.5.0,>=2.4 in /usr/local/lib/python3.6/dist-packages (from nbformat>=4.2.0->ipywidgets<8.0,>=7.5.0->ipysheet->flatland-rl==2.1.10) (2.6.0)\n",
            "Requirement already satisfied: notebook>=4.4.1 in /usr/local/lib/python3.6/dist-packages (from widgetsnbextension~=3.5.0->ipywidgets<8.0,>=7.5.0->ipysheet->flatland-rl==2.1.10) (5.2.2)\n",
            "Requirement already satisfied: tornado>=4.0 in /usr/local/lib/python3.6/dist-packages (from ipykernel>=4.5.1->ipywidgets<8.0,>=7.5.0->ipysheet->flatland-rl==2.1.10) (4.5.3)\n",
            "Requirement already satisfied: jupyter-client in /usr/local/lib/python3.6/dist-packages (from ipykernel>=4.5.1->ipywidgets<8.0,>=7.5.0->ipysheet->flatland-rl==2.1.10) (5.3.4)\n",
            "Requirement already satisfied: prompt-toolkit<2.0.0,>=1.0.4 in /usr/local/lib/python3.6/dist-packages (from ipython>=4.0.0; python_version >= \"3.3\"->ipywidgets<8.0,>=7.5.0->ipysheet->flatland-rl==2.1.10) (1.0.18)\n",
            "Requirement already satisfied: pickleshare in /usr/local/lib/python3.6/dist-packages (from ipython>=4.0.0; python_version >= \"3.3\"->ipywidgets<8.0,>=7.5.0->ipysheet->flatland-rl==2.1.10) (0.7.5)\n",
            "Requirement already satisfied: simplegeneric>0.8 in /usr/local/lib/python3.6/dist-packages (from ipython>=4.0.0; python_version >= \"3.3\"->ipywidgets<8.0,>=7.5.0->ipysheet->flatland-rl==2.1.10) (0.8.1)\n",
            "Requirement already satisfied: pexpect; sys_platform != \"win32\" in /usr/local/lib/python3.6/dist-packages (from ipython>=4.0.0; python_version >= \"3.3\"->ipywidgets<8.0,>=7.5.0->ipysheet->flatland-rl==2.1.10) (4.8.0)\n",
            "Requirement already satisfied: pygments in /usr/local/lib/python3.6/dist-packages (from ipython>=4.0.0; python_version >= \"3.3\"->ipywidgets<8.0,>=7.5.0->ipysheet->flatland-rl==2.1.10) (2.1.3)\n",
            "Requirement already satisfied: nbconvert in /usr/local/lib/python3.6/dist-packages (from notebook>=4.4.1->widgetsnbextension~=3.5.0->ipywidgets<8.0,>=7.5.0->ipysheet->flatland-rl==2.1.10) (5.6.1)\n",
            "Requirement already satisfied: terminado>=0.3.3; sys_platform != \"win32\" in /usr/local/lib/python3.6/dist-packages (from notebook>=4.4.1->widgetsnbextension~=3.5.0->ipywidgets<8.0,>=7.5.0->ipysheet->flatland-rl==2.1.10) (0.8.3)\n",
            "Requirement already satisfied: pyzmq>=13 in /usr/local/lib/python3.6/dist-packages (from jupyter-client->ipykernel>=4.5.1->ipywidgets<8.0,>=7.5.0->ipysheet->flatland-rl==2.1.10) (17.0.0)\n",
            "Requirement already satisfied: ptyprocess>=0.5 in /usr/local/lib/python3.6/dist-packages (from pexpect; sys_platform != \"win32\"->ipython>=4.0.0; python_version >= \"3.3\"->ipywidgets<8.0,>=7.5.0->ipysheet->flatland-rl==2.1.10) (0.6.0)\n",
            "Requirement already satisfied: bleach in /usr/local/lib/python3.6/dist-packages (from nbconvert->notebook>=4.4.1->widgetsnbextension~=3.5.0->ipywidgets<8.0,>=7.5.0->ipysheet->flatland-rl==2.1.10) (3.1.0)\n",
            "Requirement already satisfied: testpath in /usr/local/lib/python3.6/dist-packages (from nbconvert->notebook>=4.4.1->widgetsnbextension~=3.5.0->ipywidgets<8.0,>=7.5.0->ipysheet->flatland-rl==2.1.10) (0.4.4)\n",
            "Requirement already satisfied: entrypoints>=0.2.2 in /usr/local/lib/python3.6/dist-packages (from nbconvert->notebook>=4.4.1->widgetsnbextension~=3.5.0->ipywidgets<8.0,>=7.5.0->ipysheet->flatland-rl==2.1.10) (0.3)\n",
            "Requirement already satisfied: pandocfilters>=1.4.1 in /usr/local/lib/python3.6/dist-packages (from nbconvert->notebook>=4.4.1->widgetsnbextension~=3.5.0->ipywidgets<8.0,>=7.5.0->ipysheet->flatland-rl==2.1.10) (1.4.2)\n",
            "Requirement already satisfied: mistune<2,>=0.8.1 in /usr/local/lib/python3.6/dist-packages (from nbconvert->notebook>=4.4.1->widgetsnbextension~=3.5.0->ipywidgets<8.0,>=7.5.0->ipysheet->flatland-rl==2.1.10) (0.8.4)\n",
            "Installing collected packages: flatland-rl\n",
            "  Found existing installation: flatland-rl 2.1.10\n",
            "    Can't uninstall 'flatland-rl'. No files were found to uninstall.\n",
            "  Running setup.py develop for flatland-rl\n",
            "Successfully installed flatland-rl\n"
          ],
          "name": "stdout"
        }
      ]
    },
    {
      "cell_type": "code",
      "metadata": {
        "id": "30pEIBsgrizN",
        "colab_type": "code",
        "colab": {}
      },
      "source": [
        "import PIL\n",
        "from flatland.utils.rendertools import RenderTool\n",
        "\n",
        "def render_env(env):\n",
        "    env_renderer = RenderTool(env, gl=\"PILSVG\")\n",
        "    env_renderer.render_env()\n",
        "\n",
        "    image = env_renderer.get_image()\n",
        "    pil_image = PIL.Image.fromarray(image)\n",
        "    display(pil_image)\n",
        "    return image"
      ],
      "execution_count": 0,
      "outputs": []
    },
    {
      "cell_type": "markdown",
      "metadata": {
        "id": "QsdJ_OxprFTi",
        "colab_type": "text"
      },
      "source": [
        "Random rail network\n",
        "---"
      ]
    },
    {
      "cell_type": "markdown",
      "metadata": {
        "id": "zRFnc1JMrFTk",
        "colab_type": "text"
      },
      "source": [
        "The difficulty of a railway network depends on the **dimensions** (width x height) and the **number of agents** in the network. By varying the number of start and goal connections (nr_start_goal) and the number of extra railway elements added (nr_extra) the number of alternative paths of each agents can be modified. The more possible paths an agent has to reach its target the easier the task becomes. Here we don’t specify any observation builder but rather use the standard tree observation. If you would like to use a custom obervation please follow the instructions in the next tutorial. Feel free to vary these parameters to see how your own agent holds up on different setting. The evalutation set of railway configurations will cover the whole spectrum from easy to complex tasks.\n",
        "\n"
      ]
    },
    {
      "cell_type": "code",
      "metadata": {
        "id": "XSnHeL9LrlEr",
        "colab_type": "code",
        "colab": {}
      },
      "source": [
        "from flatland.envs.rail_env import RailEnv\n",
        "from flatland.envs.rail_generators import sparse_rail_generator\n",
        "import numpy as np\n",
        "\n",
        "number_of_agents = 1\n",
        "\n",
        "# More realistic networks can be built using sparse_rail_generator\n",
        "sparse_env = RailEnv(\n",
        "    width=50,\n",
        "    height=50,\n",
        "    rail_generator=sparse_rail_generator(\n",
        "        max_num_cities=5,  # Number of cities (= train stations)\n",
        "        grid_mode=False,  # Distribute the cities evenly in a grid\n",
        "        max_rails_between_cities=2,  # Max number of rails connecting to a city\n",
        "        max_rails_in_city=5  # Number of parallel tracks in cities\n",
        "    ),\n",
        "    obs_builder_object=SingleAgentNavigationObs(),\n",
        "    number_of_agents=number_of_agents\n",
        ")\n",
        "\n",
        "observation, info = sparse_env.reset()"
      ],
      "execution_count": 0,
      "outputs": []
    },
    {
      "cell_type": "code",
      "metadata": {
        "id": "4eVLkDBCr_yH",
        "colab_type": "code",
        "colab": {}
      },
      "source": [
        "from flatland.core.env_observation_builder import ObservationBuilder\n",
        "from flatland.envs.observations import TreeObsForRailEnv\n",
        "from flatland.core.grid.grid4_utils import get_new_position\n",
        "from typing import List\n",
        "\n",
        "# Build observations which indicate the shortest path to the target\n",
        "class SingleAgentNavigationObs(ObservationBuilder):\n",
        "    \"\"\"\n",
        "    We build a representation vector with 3 binary components, indicating which of the 3 available directions\n",
        "    for each agent (Left, Forward, Right) lead to the shortest path to its target.\n",
        "    E.g., if taking the Left branch (if available) is the shortest route to the agent's target, the observation vector\n",
        "    will be [1, 0, 0].\n",
        "    \"\"\"\n",
        "\n",
        "    def __init__(self):\n",
        "        super().__init__()\n",
        "\n",
        "    def reset(self):\n",
        "        pass\n",
        "\n",
        "    def get(self, handle: int = 0) -> List[int]:\n",
        "        agent = self.env.agents[handle]\n",
        "\n",
        "        if agent.position:\n",
        "            possible_transitions = self.env.rail.get_transitions(*agent.position, agent.direction)\n",
        "        else:\n",
        "            possible_transitions = self.env.rail.get_transitions(*agent.initial_position, agent.direction)\n",
        "\n",
        "        num_transitions = np.count_nonzero(possible_transitions)\n",
        "\n",
        "        # Start from the current orientation, and see which transitions are available;\n",
        "        # organize them as [left, forward, right], relative to the current orientation\n",
        "        # If only one transition is possible, the forward branch is aligned with it.\n",
        "        if num_transitions == 1:\n",
        "            observation = [0, 1, 0]\n",
        "        else:\n",
        "            min_distances = []\n",
        "            for direction in [(agent.direction + i) % 4 for i in range(-1, 2)]:\n",
        "                if possible_transitions[direction]:\n",
        "                    new_position = get_new_position(agent.position, direction)\n",
        "                    min_distances.append(\n",
        "                        self.env.distance_map.get()[handle, new_position[0], new_position[1], direction])\n",
        "                else:\n",
        "                    min_distances.append(np.inf)\n",
        "\n",
        "            observation = [0, 0, 0]\n",
        "            observation[np.argmin(min_distances)] = 1\n",
        "\n",
        "        return observation"
      ],
      "execution_count": 0,
      "outputs": []
    },
    {
      "cell_type": "code",
      "metadata": {
        "id": "Y3NI0wxusK52",
        "colab_type": "code",
        "colab": {
          "base_uri": "https://localhost:8080/",
          "height": 50
        },
        "outputId": "321b5e51-9980-4570-f5a0-690a40e3bb7b"
      },
      "source": [
        "action_to_direction = {0: 'no-op', 1: 'left', 2: 'forward', 3: 'right', 4: 'halt'}\n",
        "\n",
        "print(\"Directions of shortest paths\")\n",
        "for agent_handle in observation:\n",
        "    for idx, shortest in enumerate(observation[agent_handle]):\n",
        "        if shortest:\n",
        "            action = np.argmax(observation[0]) + 1\n",
        "            print('- Agent {}: {}'.format(agent_handle, action_to_direction[action]))"
      ],
      "execution_count": 49,
      "outputs": [
        {
          "output_type": "stream",
          "text": [
            "Directions of shortest paths\n",
            "- Agent 0: forward\n"
          ],
          "name": "stdout"
        }
      ]
    },
    {
      "cell_type": "code",
      "metadata": {
        "id": "ZZe1EZ8NsxCR",
        "colab_type": "code",
        "colab": {
          "base_uri": "https://localhost:8080/",
          "height": 369
        },
        "outputId": "abec2469-4330-451d-f411-0952caf3826a"
      },
      "source": [
        "from IPython.display import clear_output\n",
        "\n",
        "obs, info = sparse_env.reset()\n",
        "\n",
        "# Move in a direction that is on a shortest path\n",
        "# This results in an optimal policy if and only if there is a single agent!\n",
        "for step in range(150):\n",
        "    obs, all_rewards, done, _ = sparse_env.step({0: action})\n",
        "    action = np.argmax(obs[0]) + 1\n",
        "\n",
        "    clear_output(wait=True)\n",
        "    render_env(sparse_env)\n",
        "\n",
        "    print(\"Timestep: {}\".format(step))\n",
        "    print(\"Action: {} ({})\".format(action, action_to_direction[action]))\n",
        "    print(\"Rewards: {}\".format(all_rewards))\n",
        "    print(\"Done: {}\".format(done))\n",
        "\n",
        "    if done['__all__']:\n",
        "        print(\"All done!\")\n",
        "        break"
      ],
      "execution_count": 50,
      "outputs": [
        {
          "output_type": "error",
          "ename": "KeyboardInterrupt",
          "evalue": "ignored",
          "traceback": [
            "\u001b[0;31m---------------------------------------------------------------------------\u001b[0m",
            "\u001b[0;31mKeyboardInterrupt\u001b[0m                         Traceback (most recent call last)",
            "\u001b[0;32m<ipython-input-50-2c309cca2af6>\u001b[0m in \u001b[0;36m<module>\u001b[0;34m()\u001b[0m\n\u001b[1;32m     10\u001b[0m \u001b[0;34m\u001b[0m\u001b[0m\n\u001b[1;32m     11\u001b[0m     \u001b[0mclear_output\u001b[0m\u001b[0;34m(\u001b[0m\u001b[0mwait\u001b[0m\u001b[0;34m=\u001b[0m\u001b[0;32mTrue\u001b[0m\u001b[0;34m)\u001b[0m\u001b[0;34m\u001b[0m\u001b[0;34m\u001b[0m\u001b[0m\n\u001b[0;32m---> 12\u001b[0;31m     \u001b[0mrender_env\u001b[0m\u001b[0;34m(\u001b[0m\u001b[0msparse_env\u001b[0m\u001b[0;34m)\u001b[0m\u001b[0;34m\u001b[0m\u001b[0;34m\u001b[0m\u001b[0m\n\u001b[0m\u001b[1;32m     13\u001b[0m \u001b[0;34m\u001b[0m\u001b[0m\n\u001b[1;32m     14\u001b[0m     \u001b[0mprint\u001b[0m\u001b[0;34m(\u001b[0m\u001b[0;34m\"Timestep: {}\"\u001b[0m\u001b[0;34m.\u001b[0m\u001b[0mformat\u001b[0m\u001b[0;34m(\u001b[0m\u001b[0mstep\u001b[0m\u001b[0;34m)\u001b[0m\u001b[0;34m)\u001b[0m\u001b[0;34m\u001b[0m\u001b[0;34m\u001b[0m\u001b[0m\n",
            "\u001b[0;32m<ipython-input-14-3e20c52ed992>\u001b[0m in \u001b[0;36mrender_env\u001b[0;34m(env)\u001b[0m\n\u001b[1;32m      3\u001b[0m \u001b[0;34m\u001b[0m\u001b[0m\n\u001b[1;32m      4\u001b[0m \u001b[0;32mdef\u001b[0m \u001b[0mrender_env\u001b[0m\u001b[0;34m(\u001b[0m\u001b[0menv\u001b[0m\u001b[0;34m)\u001b[0m\u001b[0;34m:\u001b[0m\u001b[0;34m\u001b[0m\u001b[0;34m\u001b[0m\u001b[0m\n\u001b[0;32m----> 5\u001b[0;31m     \u001b[0menv_renderer\u001b[0m \u001b[0;34m=\u001b[0m \u001b[0mRenderTool\u001b[0m\u001b[0;34m(\u001b[0m\u001b[0menv\u001b[0m\u001b[0;34m,\u001b[0m \u001b[0mgl\u001b[0m\u001b[0;34m=\u001b[0m\u001b[0;34m\"PILSVG\"\u001b[0m\u001b[0;34m)\u001b[0m\u001b[0;34m\u001b[0m\u001b[0;34m\u001b[0m\u001b[0m\n\u001b[0m\u001b[1;32m      6\u001b[0m     \u001b[0menv_renderer\u001b[0m\u001b[0;34m.\u001b[0m\u001b[0mrender_env\u001b[0m\u001b[0;34m(\u001b[0m\u001b[0;34m)\u001b[0m\u001b[0;34m\u001b[0m\u001b[0;34m\u001b[0m\u001b[0m\n\u001b[1;32m      7\u001b[0m \u001b[0;34m\u001b[0m\u001b[0m\n",
            "\u001b[0;32m/content/flatland/flatland/utils/rendertools.py\u001b[0m in \u001b[0;36m__init__\u001b[0;34m(self, env, gl, jupyter, agent_render_variant, show_debug, clear_debug_text, screen_width, screen_height, host, port)\u001b[0m\n\u001b[1;32m     39\u001b[0m             self.renderer = RenderLocal(env, gl, jupyter,\n\u001b[1;32m     40\u001b[0m                  \u001b[0magent_render_variant\u001b[0m\u001b[0;34m,\u001b[0m\u001b[0;34m\u001b[0m\u001b[0;34m\u001b[0m\u001b[0m\n\u001b[0;32m---> 41\u001b[0;31m                  show_debug, clear_debug_text, screen_width, screen_height)\n\u001b[0m\u001b[1;32m     42\u001b[0m \u001b[0;34m\u001b[0m\u001b[0m\n\u001b[1;32m     43\u001b[0m             \u001b[0;31m# To support legacy access to the GraphicsLayer (gl)\u001b[0m\u001b[0;34m\u001b[0m\u001b[0;34m\u001b[0m\u001b[0;34m\u001b[0m\u001b[0m\n",
            "\u001b[0;32m/content/flatland/flatland/utils/rendertools.py\u001b[0m in \u001b[0;36m__init__\u001b[0;34m(self, env, gl, jupyter, agent_render_variant, show_debug, clear_debug_text, screen_width, screen_height)\u001b[0m\n\u001b[1;32m    208\u001b[0m             \u001b[0mself\u001b[0m\u001b[0;34m.\u001b[0m\u001b[0mgl\u001b[0m \u001b[0;34m=\u001b[0m \u001b[0mPILGL\u001b[0m\u001b[0;34m(\u001b[0m\u001b[0menv\u001b[0m\u001b[0;34m.\u001b[0m\u001b[0mwidth\u001b[0m\u001b[0;34m,\u001b[0m \u001b[0menv\u001b[0m\u001b[0;34m.\u001b[0m\u001b[0mheight\u001b[0m\u001b[0;34m,\u001b[0m \u001b[0mjupyter\u001b[0m\u001b[0;34m,\u001b[0m \u001b[0mscreen_width\u001b[0m\u001b[0;34m=\u001b[0m\u001b[0mscreen_width\u001b[0m\u001b[0;34m,\u001b[0m \u001b[0mscreen_height\u001b[0m\u001b[0;34m=\u001b[0m\u001b[0mscreen_height\u001b[0m\u001b[0;34m)\u001b[0m\u001b[0;34m\u001b[0m\u001b[0;34m\u001b[0m\u001b[0m\n\u001b[1;32m    209\u001b[0m         \u001b[0;32melif\u001b[0m \u001b[0mgl\u001b[0m \u001b[0;34m==\u001b[0m \u001b[0;34m\"PILSVG\"\u001b[0m\u001b[0;34m:\u001b[0m\u001b[0;34m\u001b[0m\u001b[0;34m\u001b[0m\u001b[0m\n\u001b[0;32m--> 210\u001b[0;31m             \u001b[0mself\u001b[0m\u001b[0;34m.\u001b[0m\u001b[0mgl\u001b[0m \u001b[0;34m=\u001b[0m \u001b[0mPILSVG\u001b[0m\u001b[0;34m(\u001b[0m\u001b[0menv\u001b[0m\u001b[0;34m.\u001b[0m\u001b[0mwidth\u001b[0m\u001b[0;34m,\u001b[0m \u001b[0menv\u001b[0m\u001b[0;34m.\u001b[0m\u001b[0mheight\u001b[0m\u001b[0;34m,\u001b[0m \u001b[0mjupyter\u001b[0m\u001b[0;34m,\u001b[0m \u001b[0mscreen_width\u001b[0m\u001b[0;34m=\u001b[0m\u001b[0mscreen_width\u001b[0m\u001b[0;34m,\u001b[0m \u001b[0mscreen_height\u001b[0m\u001b[0;34m=\u001b[0m\u001b[0mscreen_height\u001b[0m\u001b[0;34m)\u001b[0m\u001b[0;34m\u001b[0m\u001b[0;34m\u001b[0m\u001b[0m\n\u001b[0m\u001b[1;32m    211\u001b[0m         \u001b[0;32melif\u001b[0m \u001b[0mgl\u001b[0m \u001b[0;32min\u001b[0m \u001b[0;34m[\u001b[0m\u001b[0;34m\"TKPILSVG\"\u001b[0m\u001b[0;34m,\u001b[0m \u001b[0;34m\"TKPIL\"\u001b[0m\u001b[0;34m]\u001b[0m\u001b[0;34m:\u001b[0m\u001b[0;34m\u001b[0m\u001b[0;34m\u001b[0m\u001b[0m\n\u001b[1;32m    212\u001b[0m             \u001b[0;31m# Conditional import to avoid importing tkinter unless required.\u001b[0m\u001b[0;34m\u001b[0m\u001b[0;34m\u001b[0m\u001b[0;34m\u001b[0m\u001b[0m\n",
            "\u001b[0;32m/content/flatland/flatland/utils/graphics_pil.py\u001b[0m in \u001b[0;36m__init__\u001b[0;34m(self, width, height, jupyter, screen_width, screen_height)\u001b[0m\n\u001b[1;32m    261\u001b[0m         \u001b[0mself\u001b[0m\u001b[0;34m.\u001b[0m\u001b[0magents_prev\u001b[0m \u001b[0;34m=\u001b[0m \u001b[0;34m[\u001b[0m\u001b[0;34m]\u001b[0m\u001b[0;34m\u001b[0m\u001b[0;34m\u001b[0m\u001b[0m\n\u001b[1;32m    262\u001b[0m \u001b[0;34m\u001b[0m\u001b[0m\n\u001b[0;32m--> 263\u001b[0;31m         \u001b[0mself\u001b[0m\u001b[0;34m.\u001b[0m\u001b[0mload_buildings\u001b[0m\u001b[0;34m(\u001b[0m\u001b[0;34m)\u001b[0m\u001b[0;34m\u001b[0m\u001b[0;34m\u001b[0m\u001b[0m\n\u001b[0m\u001b[1;32m    264\u001b[0m         \u001b[0mself\u001b[0m\u001b[0;34m.\u001b[0m\u001b[0mload_scenery\u001b[0m\u001b[0;34m(\u001b[0m\u001b[0;34m)\u001b[0m\u001b[0;34m\u001b[0m\u001b[0;34m\u001b[0m\u001b[0m\n\u001b[1;32m    265\u001b[0m         \u001b[0mself\u001b[0m\u001b[0;34m.\u001b[0m\u001b[0mload_rail\u001b[0m\u001b[0;34m(\u001b[0m\u001b[0;34m)\u001b[0m\u001b[0;34m\u001b[0m\u001b[0;34m\u001b[0m\u001b[0m\n",
            "\u001b[0;32m/content/flatland/flatland/utils/graphics_pil.py\u001b[0m in \u001b[0;36mload_buildings\u001b[0;34m(self)\u001b[0m\n\u001b[1;32m    321\u001b[0m         \u001b[0mself\u001b[0m\u001b[0;34m.\u001b[0m\u001b[0mdBuildings\u001b[0m \u001b[0;34m=\u001b[0m \u001b[0;34m[\u001b[0m\u001b[0;34m]\u001b[0m\u001b[0;34m\u001b[0m\u001b[0;34m\u001b[0m\u001b[0m\n\u001b[1;32m    322\u001b[0m         \u001b[0;32mfor\u001b[0m \u001b[0msFile\u001b[0m \u001b[0;32min\u001b[0m \u001b[0mdBuildingFiles\u001b[0m\u001b[0;34m:\u001b[0m\u001b[0;34m\u001b[0m\u001b[0;34m\u001b[0m\u001b[0m\n\u001b[0;32m--> 323\u001b[0;31m             \u001b[0mimg\u001b[0m \u001b[0;34m=\u001b[0m \u001b[0mself\u001b[0m\u001b[0;34m.\u001b[0m\u001b[0mpil_from_svg_file\u001b[0m\u001b[0;34m(\u001b[0m\u001b[0;34m'svg'\u001b[0m\u001b[0;34m,\u001b[0m \u001b[0msFile\u001b[0m\u001b[0;34m)\u001b[0m\u001b[0;34m\u001b[0m\u001b[0;34m\u001b[0m\u001b[0m\n\u001b[0m\u001b[1;32m    324\u001b[0m             \u001b[0mimg\u001b[0m \u001b[0;34m=\u001b[0m \u001b[0mImage\u001b[0m\u001b[0;34m.\u001b[0m\u001b[0malpha_composite\u001b[0m\u001b[0;34m(\u001b[0m\u001b[0mimgBg\u001b[0m\u001b[0;34m,\u001b[0m \u001b[0mimg\u001b[0m\u001b[0;34m)\u001b[0m\u001b[0;34m\u001b[0m\u001b[0;34m\u001b[0m\u001b[0m\n\u001b[1;32m    325\u001b[0m             \u001b[0mself\u001b[0m\u001b[0;34m.\u001b[0m\u001b[0mdBuildings\u001b[0m\u001b[0;34m.\u001b[0m\u001b[0mappend\u001b[0m\u001b[0;34m(\u001b[0m\u001b[0mimg\u001b[0m\u001b[0;34m)\u001b[0m\u001b[0;34m\u001b[0m\u001b[0;34m\u001b[0m\u001b[0m\n",
            "\u001b[0;32m/content/flatland/flatland/utils/graphics_pil.py\u001b[0m in \u001b[0;36mpil_from_svg_file\u001b[0;34m(self, package, resource)\u001b[0m\n\u001b[1;32m    281\u001b[0m     \u001b[0;32mdef\u001b[0m \u001b[0mpil_from_svg_file\u001b[0m\u001b[0;34m(\u001b[0m\u001b[0mself\u001b[0m\u001b[0;34m,\u001b[0m \u001b[0mpackage\u001b[0m\u001b[0;34m,\u001b[0m \u001b[0mresource\u001b[0m\u001b[0;34m)\u001b[0m\u001b[0;34m:\u001b[0m\u001b[0;34m\u001b[0m\u001b[0;34m\u001b[0m\u001b[0m\n\u001b[1;32m    282\u001b[0m         \u001b[0mbytestring\u001b[0m \u001b[0;34m=\u001b[0m \u001b[0mresource_bytes\u001b[0m\u001b[0;34m(\u001b[0m\u001b[0mpackage\u001b[0m\u001b[0;34m,\u001b[0m \u001b[0mresource\u001b[0m\u001b[0;34m)\u001b[0m\u001b[0;34m\u001b[0m\u001b[0;34m\u001b[0m\u001b[0m\n\u001b[0;32m--> 283\u001b[0;31m         \u001b[0mbytesPNG\u001b[0m \u001b[0;34m=\u001b[0m \u001b[0msvg2png\u001b[0m\u001b[0;34m(\u001b[0m\u001b[0mbytestring\u001b[0m\u001b[0;34m=\u001b[0m\u001b[0mbytestring\u001b[0m\u001b[0;34m,\u001b[0m \u001b[0moutput_height\u001b[0m\u001b[0;34m=\u001b[0m\u001b[0mself\u001b[0m\u001b[0;34m.\u001b[0m\u001b[0mnPixCell\u001b[0m\u001b[0;34m,\u001b[0m \u001b[0moutput_width\u001b[0m\u001b[0;34m=\u001b[0m\u001b[0mself\u001b[0m\u001b[0;34m.\u001b[0m\u001b[0mnPixCell\u001b[0m\u001b[0;34m)\u001b[0m\u001b[0;34m\u001b[0m\u001b[0;34m\u001b[0m\u001b[0m\n\u001b[0m\u001b[1;32m    284\u001b[0m         \u001b[0;32mwith\u001b[0m \u001b[0mio\u001b[0m\u001b[0;34m.\u001b[0m\u001b[0mBytesIO\u001b[0m\u001b[0;34m(\u001b[0m\u001b[0mbytesPNG\u001b[0m\u001b[0;34m)\u001b[0m \u001b[0;32mas\u001b[0m \u001b[0mfIn\u001b[0m\u001b[0;34m:\u001b[0m\u001b[0;34m\u001b[0m\u001b[0;34m\u001b[0m\u001b[0m\n\u001b[1;32m    285\u001b[0m             \u001b[0mpil_img\u001b[0m \u001b[0;34m=\u001b[0m \u001b[0mImage\u001b[0m\u001b[0;34m.\u001b[0m\u001b[0mopen\u001b[0m\u001b[0;34m(\u001b[0m\u001b[0mfIn\u001b[0m\u001b[0;34m)\u001b[0m\u001b[0;34m\u001b[0m\u001b[0;34m\u001b[0m\u001b[0m\n",
            "\u001b[0;32m/usr/local/lib/python3.6/dist-packages/cairosvg/__init__.py\u001b[0m in \u001b[0;36msvg2png\u001b[0;34m(bytestring, file_obj, url, dpi, parent_width, parent_height, scale, unsafe, write_to, output_width, output_height)\u001b[0m\n\u001b[1;32m     68\u001b[0m         \u001b[0mparent_width\u001b[0m\u001b[0;34m=\u001b[0m\u001b[0mparent_width\u001b[0m\u001b[0;34m,\u001b[0m \u001b[0mparent_height\u001b[0m\u001b[0;34m=\u001b[0m\u001b[0mparent_height\u001b[0m\u001b[0;34m,\u001b[0m \u001b[0mscale\u001b[0m\u001b[0;34m=\u001b[0m\u001b[0mscale\u001b[0m\u001b[0;34m,\u001b[0m\u001b[0;34m\u001b[0m\u001b[0;34m\u001b[0m\u001b[0m\n\u001b[1;32m     69\u001b[0m         \u001b[0munsafe\u001b[0m\u001b[0;34m=\u001b[0m\u001b[0munsafe\u001b[0m\u001b[0;34m,\u001b[0m \u001b[0mwrite_to\u001b[0m\u001b[0;34m=\u001b[0m\u001b[0mwrite_to\u001b[0m\u001b[0;34m,\u001b[0m \u001b[0moutput_width\u001b[0m\u001b[0;34m=\u001b[0m\u001b[0moutput_width\u001b[0m\u001b[0;34m,\u001b[0m\u001b[0;34m\u001b[0m\u001b[0;34m\u001b[0m\u001b[0m\n\u001b[0;32m---> 70\u001b[0;31m         output_height=output_height)\n\u001b[0m\u001b[1;32m     71\u001b[0m \u001b[0;34m\u001b[0m\u001b[0m\n\u001b[1;32m     72\u001b[0m \u001b[0;34m\u001b[0m\u001b[0m\n",
            "\u001b[0;32m/usr/local/lib/python3.6/dist-packages/cairosvg/surface.py\u001b[0m in \u001b[0;36mconvert\u001b[0;34m(cls, bytestring, file_obj, url, dpi, parent_width, parent_height, scale, unsafe, write_to, output_width, output_height, **kwargs)\u001b[0m\n\u001b[1;32m    146\u001b[0m         instance = cls(\n\u001b[1;32m    147\u001b[0m             \u001b[0mtree\u001b[0m\u001b[0;34m,\u001b[0m \u001b[0moutput\u001b[0m\u001b[0;34m,\u001b[0m \u001b[0mdpi\u001b[0m\u001b[0;34m,\u001b[0m \u001b[0;32mNone\u001b[0m\u001b[0;34m,\u001b[0m \u001b[0mparent_width\u001b[0m\u001b[0;34m,\u001b[0m \u001b[0mparent_height\u001b[0m\u001b[0;34m,\u001b[0m \u001b[0mscale\u001b[0m\u001b[0;34m,\u001b[0m\u001b[0;34m\u001b[0m\u001b[0;34m\u001b[0m\u001b[0m\n\u001b[0;32m--> 148\u001b[0;31m             output_width, output_height)\n\u001b[0m\u001b[1;32m    149\u001b[0m         \u001b[0minstance\u001b[0m\u001b[0;34m.\u001b[0m\u001b[0mfinish\u001b[0m\u001b[0;34m(\u001b[0m\u001b[0;34m)\u001b[0m\u001b[0;34m\u001b[0m\u001b[0;34m\u001b[0m\u001b[0m\n\u001b[1;32m    150\u001b[0m         \u001b[0;32mif\u001b[0m \u001b[0mwrite_to\u001b[0m \u001b[0;32mis\u001b[0m \u001b[0;32mNone\u001b[0m\u001b[0;34m:\u001b[0m\u001b[0;34m\u001b[0m\u001b[0;34m\u001b[0m\u001b[0m\n",
            "\u001b[0;32m/usr/local/lib/python3.6/dist-packages/cairosvg/surface.py\u001b[0m in \u001b[0;36m__init__\u001b[0;34m(self, tree, output, dpi, parent_surface, parent_width, parent_height, scale, output_width, output_height)\u001b[0m\n\u001b[1;32m    210\u001b[0m         \u001b[0mself\u001b[0m\u001b[0;34m.\u001b[0m\u001b[0mset_context_size\u001b[0m\u001b[0;34m(\u001b[0m\u001b[0mwidth\u001b[0m\u001b[0;34m,\u001b[0m \u001b[0mheight\u001b[0m\u001b[0;34m,\u001b[0m \u001b[0mviewbox\u001b[0m\u001b[0;34m,\u001b[0m \u001b[0mtree\u001b[0m\u001b[0;34m)\u001b[0m\u001b[0;34m\u001b[0m\u001b[0;34m\u001b[0m\u001b[0m\n\u001b[1;32m    211\u001b[0m         \u001b[0mself\u001b[0m\u001b[0;34m.\u001b[0m\u001b[0mcontext\u001b[0m\u001b[0;34m.\u001b[0m\u001b[0mmove_to\u001b[0m\u001b[0;34m(\u001b[0m\u001b[0;36m0\u001b[0m\u001b[0;34m,\u001b[0m \u001b[0;36m0\u001b[0m\u001b[0;34m)\u001b[0m\u001b[0;34m\u001b[0m\u001b[0;34m\u001b[0m\u001b[0m\n\u001b[0;32m--> 212\u001b[0;31m         \u001b[0mself\u001b[0m\u001b[0;34m.\u001b[0m\u001b[0mdraw\u001b[0m\u001b[0;34m(\u001b[0m\u001b[0mtree\u001b[0m\u001b[0;34m)\u001b[0m\u001b[0;34m\u001b[0m\u001b[0;34m\u001b[0m\u001b[0m\n\u001b[0m\u001b[1;32m    213\u001b[0m \u001b[0;34m\u001b[0m\u001b[0m\n\u001b[1;32m    214\u001b[0m     \u001b[0;34m@\u001b[0m\u001b[0mproperty\u001b[0m\u001b[0;34m\u001b[0m\u001b[0;34m\u001b[0m\u001b[0m\n",
            "\u001b[0;32m/usr/local/lib/python3.6/dist-packages/cairosvg/surface.py\u001b[0m in \u001b[0;36mdraw\u001b[0;34m(self, node)\u001b[0m\n\u001b[1;32m    447\u001b[0m         \u001b[0;32mif\u001b[0m \u001b[0mdisplay\u001b[0m \u001b[0;32mand\u001b[0m \u001b[0mnode\u001b[0m\u001b[0;34m.\u001b[0m\u001b[0mtag\u001b[0m \u001b[0;32mnot\u001b[0m \u001b[0;32min\u001b[0m \u001b[0mINVISIBLE_TAGS\u001b[0m\u001b[0;34m:\u001b[0m\u001b[0;34m\u001b[0m\u001b[0;34m\u001b[0m\u001b[0m\n\u001b[1;32m    448\u001b[0m             \u001b[0;32mfor\u001b[0m \u001b[0mchild\u001b[0m \u001b[0;32min\u001b[0m \u001b[0mnode\u001b[0m\u001b[0;34m.\u001b[0m\u001b[0mchildren\u001b[0m\u001b[0;34m:\u001b[0m\u001b[0;34m\u001b[0m\u001b[0;34m\u001b[0m\u001b[0m\n\u001b[0;32m--> 449\u001b[0;31m                 \u001b[0mself\u001b[0m\u001b[0;34m.\u001b[0m\u001b[0mdraw\u001b[0m\u001b[0;34m(\u001b[0m\u001b[0mchild\u001b[0m\u001b[0;34m)\u001b[0m\u001b[0;34m\u001b[0m\u001b[0;34m\u001b[0m\u001b[0m\n\u001b[0m\u001b[1;32m    450\u001b[0m \u001b[0;34m\u001b[0m\u001b[0m\n\u001b[1;32m    451\u001b[0m         \u001b[0;31m# Apply filter, mask and opacity\u001b[0m\u001b[0;34m\u001b[0m\u001b[0;34m\u001b[0m\u001b[0;34m\u001b[0m\u001b[0m\n",
            "\u001b[0;32m/usr/local/lib/python3.6/dist-packages/cairosvg/surface.py\u001b[0m in \u001b[0;36mdraw\u001b[0;34m(self, node)\u001b[0m\n\u001b[1;32m    447\u001b[0m         \u001b[0;32mif\u001b[0m \u001b[0mdisplay\u001b[0m \u001b[0;32mand\u001b[0m \u001b[0mnode\u001b[0m\u001b[0;34m.\u001b[0m\u001b[0mtag\u001b[0m \u001b[0;32mnot\u001b[0m \u001b[0;32min\u001b[0m \u001b[0mINVISIBLE_TAGS\u001b[0m\u001b[0;34m:\u001b[0m\u001b[0;34m\u001b[0m\u001b[0;34m\u001b[0m\u001b[0m\n\u001b[1;32m    448\u001b[0m             \u001b[0;32mfor\u001b[0m \u001b[0mchild\u001b[0m \u001b[0;32min\u001b[0m \u001b[0mnode\u001b[0m\u001b[0;34m.\u001b[0m\u001b[0mchildren\u001b[0m\u001b[0;34m:\u001b[0m\u001b[0;34m\u001b[0m\u001b[0;34m\u001b[0m\u001b[0m\n\u001b[0;32m--> 449\u001b[0;31m                 \u001b[0mself\u001b[0m\u001b[0;34m.\u001b[0m\u001b[0mdraw\u001b[0m\u001b[0;34m(\u001b[0m\u001b[0mchild\u001b[0m\u001b[0;34m)\u001b[0m\u001b[0;34m\u001b[0m\u001b[0;34m\u001b[0m\u001b[0m\n\u001b[0m\u001b[1;32m    450\u001b[0m \u001b[0;34m\u001b[0m\u001b[0m\n\u001b[1;32m    451\u001b[0m         \u001b[0;31m# Apply filter, mask and opacity\u001b[0m\u001b[0;34m\u001b[0m\u001b[0;34m\u001b[0m\u001b[0;34m\u001b[0m\u001b[0m\n",
            "\u001b[0;32m/usr/local/lib/python3.6/dist-packages/cairosvg/surface.py\u001b[0m in \u001b[0;36mdraw\u001b[0;34m(self, node)\u001b[0m\n\u001b[1;32m    405\u001b[0m             node.get('text-rendering'), cairo.ANTIALIAS_DEFAULT))\n\u001b[1;32m    406\u001b[0m         font_options.set_hint_style(TEXT_HINT_STYLE.get(\n\u001b[0;32m--> 407\u001b[0;31m             node.get('text-rendering'), cairo.HINT_STYLE_DEFAULT))\n\u001b[0m\u001b[1;32m    408\u001b[0m         font_options.set_hint_metrics(TEXT_HINT_METRICS.get(\n\u001b[1;32m    409\u001b[0m             node.get('text-rendering'), cairo.HINT_METRICS_DEFAULT))\n",
            "\u001b[0;32m/usr/local/lib/python3.6/dist-packages/cairocffi/fonts.py\u001b[0m in \u001b[0;36mset_hint_style\u001b[0;34m(self, hint_style)\u001b[0m\n\u001b[1;32m    470\u001b[0m         \"\"\"\n\u001b[1;32m    471\u001b[0m         \u001b[0mcairo\u001b[0m\u001b[0;34m.\u001b[0m\u001b[0mcairo_font_options_set_hint_style\u001b[0m\u001b[0;34m(\u001b[0m\u001b[0mself\u001b[0m\u001b[0;34m.\u001b[0m\u001b[0m_pointer\u001b[0m\u001b[0;34m,\u001b[0m \u001b[0mhint_style\u001b[0m\u001b[0;34m)\u001b[0m\u001b[0;34m\u001b[0m\u001b[0;34m\u001b[0m\u001b[0m\n\u001b[0;32m--> 472\u001b[0;31m         \u001b[0mself\u001b[0m\u001b[0;34m.\u001b[0m\u001b[0m_check_status\u001b[0m\u001b[0;34m(\u001b[0m\u001b[0;34m)\u001b[0m\u001b[0;34m\u001b[0m\u001b[0;34m\u001b[0m\u001b[0m\n\u001b[0m\u001b[1;32m    473\u001b[0m \u001b[0;34m\u001b[0m\u001b[0m\n\u001b[1;32m    474\u001b[0m     \u001b[0;32mdef\u001b[0m \u001b[0mget_hint_style\u001b[0m\u001b[0;34m(\u001b[0m\u001b[0mself\u001b[0m\u001b[0;34m)\u001b[0m\u001b[0;34m:\u001b[0m\u001b[0;34m\u001b[0m\u001b[0;34m\u001b[0m\u001b[0m\n",
            "\u001b[0;31mKeyboardInterrupt\u001b[0m: "
          ]
        }
      ]
    }
  ]
}